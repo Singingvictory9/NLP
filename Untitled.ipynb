{
 "cells": [
  {
   "cell_type": "code",
   "execution_count": 6,
   "metadata": {},
   "outputs": [
    {
     "name": "stdout",
     "output_type": "stream",
     "text": [
      "Requirement already satisfied: sentencepiece in ./opt/anaconda3/lib/python3.8/site-packages (0.1.94)\n",
      "Processing MRPC...\n",
      "Local MRPC data not specified, downloading data from https://dl.fbaipublicfiles.com/senteval/senteval_data/msr_paraphrase_train.txt\n",
      "\tCompleted!\n",
      "Directory '/Users/Documents/NLP_Project' created\n"
     ]
    },
    {
     "ename": "AttributeError",
     "evalue": "module 'tensorflow' has no attribute 'io'",
     "output_type": "error",
     "traceback": [
      "\u001b[0;31m---------------------------------------------------------------------------\u001b[0m",
      "\u001b[0;31mAttributeError\u001b[0m                            Traceback (most recent call last)",
      "\u001b[0;32m<ipython-input-6-801cfc39aff9>\u001b[0m in \u001b[0;36m<module>\u001b[0;34m\u001b[0m\n\u001b[1;32m     33\u001b[0m     \u001b[0mprint\u001b[0m\u001b[0;34m(\u001b[0m\u001b[0;34m\"Directory '%s' created\"\u001b[0m \u001b[0;34m%\u001b[0m\u001b[0mOUTPUT_DIR\u001b[0m\u001b[0;34m)\u001b[0m\u001b[0;34m\u001b[0m\u001b[0;34m\u001b[0m\u001b[0m\n\u001b[1;32m     34\u001b[0m \u001b[0;34m\u001b[0m\u001b[0m\n\u001b[0;32m---> 35\u001b[0;31m     \u001b[0mtf\u001b[0m\u001b[0;34m.\u001b[0m\u001b[0mio\u001b[0m\u001b[0;34m.\u001b[0m\u001b[0mgfile\u001b[0m\u001b[0;34m.\u001b[0m\u001b[0mGFile\u001b[0m\u001b[0;34m.\u001b[0m\u001b[0mMakeDirs\u001b[0m\u001b[0;34m(\u001b[0m\u001b[0mOUTPUT_DIR\u001b[0m\u001b[0;34m)\u001b[0m\u001b[0;34m\u001b[0m\u001b[0;34m\u001b[0m\u001b[0m\n\u001b[0m\u001b[1;32m     36\u001b[0m \u001b[0;34m\u001b[0m\u001b[0m\n\u001b[1;32m     37\u001b[0m     \u001b[0mos\u001b[0m\u001b[0;34m.\u001b[0m\u001b[0menviron\u001b[0m\u001b[0;34m[\u001b[0m\u001b[0;34m'TFHUB_CACHE_DIR'\u001b[0m\u001b[0;34m]\u001b[0m \u001b[0;34m=\u001b[0m \u001b[0mOUTPUT_DIR\u001b[0m\u001b[0;34m\u001b[0m\u001b[0;34m\u001b[0m\u001b[0m\n",
      "\u001b[0;31mAttributeError\u001b[0m: module 'tensorflow' has no attribute 'io'"
     ]
    }
   ],
   "source": [
    "\n",
    "import os\n",
    "import pprint\n",
    "import json\n",
    "import tensorflow as tf\n",
    "\n",
    "import sys\n",
    "\n",
    "!test -d albert || git clone https://github.com/google-research/albert albert\n",
    "if not 'albert' in sys.path:\n",
    "  sys.path += ['albert']\n",
    "  \n",
    "!pip install sentencepiece\n",
    "\n",
    "\n",
    "\n",
    "if __name__ == \"__main__\":\n",
    "    \n",
    "    article = sys.argv[1]\n",
    "    question = sys.argv[2]\n",
    "\n",
    "    TASK = 'MRPC' \n",
    "\n",
    "    #@param {type:\"string\"}\n",
    "    # Available pretrained model checkpoints:\n",
    "    #   base, large, xlarge, xxlarge\n",
    "    ALBERT_MODEL = 'xlarge'\n",
    "    ALBERT_MODEL_HUB = 'https://tfhub.dev/google/albert_' + ALBERT_MODEL + '/3'\n",
    "    TASK_DATA_DIR = 'glue_data'\n",
    "    ! test -d download_glue_repo || git clone https://gist.github.com/60c2bdb54d156a41194446737ce03e2e.git download_glue_repo\n",
    "    !python download_glue_repo/download_glue_data.py --data_dir=$TASK_DATA_DIR --tasks=$TASK\n",
    "\n",
    "    OUTPUT_DIR = \"/Users/Documents/NLP_Project\"\n",
    "    print(\"Directory '%s' created\" %OUTPUT_DIR) \n",
    "\n",
    "    tf.io.gfile.GFile.MakeDirs(OUTPUT_DIR)\n",
    "\n",
    "    os.environ['TFHUB_CACHE_DIR'] = OUTPUT_DIR\n",
    "    !python -m albert.run_classifier \\\n",
    "    --data_dir=\"glue_data/\" \\\n",
    "    --output_dir=$OUTPUT_DIR \\\n",
    "    --albert_hub_module_handle=$ALBERT_MODEL_HUB \\\n",
    "    --spm_model_file=\"from_tf_hub\" \\\n",
    "    --do_train=True \\\n",
    "    --do_eval=True \\\n",
    "    --do_predict=False \\\n",
    "    --max_seq_length=512 \\\n",
    "    --optimizer=adamw \\\n",
    "    --task_name=$TASK \\\n",
    "    --warmup_step=200 \\\n",
    "    --learning_rate=2e-5 \\\n",
    "    --train_step=800 \\\n",
    "    --save_checkpoints_steps=100 \\\n",
    "    --train_batch_size=32 \\\n",
    "    --tpu_name=$TPU_ADDRESS \\\n",
    "    --use_tpu=True\n",
    "\n",
    "    "
   ]
  },
  {
   "cell_type": "code",
   "execution_count": null,
   "metadata": {},
   "outputs": [],
   "source": []
  }
 ],
 "metadata": {
  "kernelspec": {
   "display_name": "Python 3",
   "language": "python",
   "name": "python3"
  },
  "language_info": {
   "codemirror_mode": {
    "name": "ipython",
    "version": 3
   },
   "file_extension": ".py",
   "mimetype": "text/x-python",
   "name": "python",
   "nbconvert_exporter": "python",
   "pygments_lexer": "ipython3",
   "version": "3.8.3"
  }
 },
 "nbformat": 4,
 "nbformat_minor": 4
}
